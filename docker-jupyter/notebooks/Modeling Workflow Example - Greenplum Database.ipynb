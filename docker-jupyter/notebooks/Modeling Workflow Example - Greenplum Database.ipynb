{
 "cells": [
  {
   "cell_type": "markdown",
   "metadata": {},
   "source": [
    "# Modeling Workflow Example - Greenplum Database\n",
    "\n",
    "\n",
    "Greenplum Database features used\n",
    "\n",
    "* Apache MADlib - http://madlib.apache.org/\n",
    "* Procedural language extension to Python - https://gpdb.docs.pivotal.io/530/ref_guide/extensions/pl_python.html\n",
    "\n",
    "\n",
    "Example uses Online Retail Data found at UCI Machine Learning Repository\n",
    "\n",
    "http://archive.ics.uci.edu/ml/datasets/online+retail\n",
    "\n",
    "\n",
    "\n",
    "## Index\n",
    "\n",
    "### Setup \n",
    "\n",
    "* <a href=\"#dependencies\">Dependencies</a>\n",
    "* <a href=\"#package_options\">Package Options</a>\n",
    "* <a href=\"#database_connection\">Database Connection</a>\n",
    "    \n",
    "### Data Loading\n",
    "\n",
    "* <a href=\"#download_data\">Download Data</a>\n",
    "* <a href=\"#import_data\">Import Data</a>\n",
    "* <a href=\"#cleanup_data\">Cleanup Data</a>\n",
    "\n",
    "### Data Audit\n",
    "\n",
    "* <a href=\"#summary_statistics\">Summary Statistics</a>\n",
    "* <a href=\"#missing_data\">Missing Data</a>\n",
    "\n",
    "### Data Exploration\n",
    "\n",
    "* <a href=\"#de_cancellation\">Cancellation</a>\n",
    "* <a href=\"#de_invoiceno\">Invoice No</a>\n",
    "* <a href=\"#de_stockcode\">Stockcode</a>\n",
    "* <a href=\"#de_description\">Description</a>\n",
    "* <a href=\"#de_quantity\">Quantity</a>\n",
    "* <a href=\"#de_invoicedate\">Invoice Date</a>\n",
    "* <a href=\"#de_unitprice\">Unit Price</a>\n",
    "* <a href=\"#de_customerid\">Customer ID</a>\n",
    "* <a href=\"#de_country\">Country</a>\n",
    " \n",
    "### Feature Engineering\n",
    "\n",
    "\n",
    "\n",
    "### Model Training\n",
    "\n",
    "\n",
    "\n",
    "### Model Scoring\n",
    "\n",
    "\n",
    "\n",
    "### Functions\n",
    "\n",
    "* <a href=\"#bar_plot\">bar_plot()</a>\n"
   ]
  },
  {
   "cell_type": "markdown",
   "metadata": {},
   "source": [
    "## Setup"
   ]
  },
  {
   "cell_type": "markdown",
   "metadata": {},
   "source": [
    "<a id=\"dependencies\"></a>"
   ]
  },
  {
   "cell_type": "code",
   "execution_count": 75,
   "metadata": {
    "collapsed": true
   },
   "outputs": [],
   "source": [
    "# dependencies\n",
    "import psycopg2\n",
    "import pandas as pd\n",
    "import xlrd\n",
    "import urllib\n",
    "import re\n",
    "import seaborn as sns\n",
    "from matplotlib import pyplot as plt"
   ]
  },
  {
   "cell_type": "markdown",
   "metadata": {},
   "source": [
    "<a id=\"package_options\"></a>"
   ]
  },
  {
   "cell_type": "code",
   "execution_count": 76,
   "metadata": {},
   "outputs": [
    {
     "name": "stdout",
     "output_type": "stream",
     "text": [
      "Populating the interactive namespace from numpy and matplotlib\n"
     ]
    }
   ],
   "source": [
    "# package options\n",
    "%matplotlib inline\n",
    "%pylab inline\n",
    "\n",
    "pd.options.mode.chained_assignment = None \n",
    "pd.set_option('display.max_colwidth', -1)\n",
    "\n",
    "pd.options.display.max_rows = 10000\n",
    "pd.options.display.max_columns = 10000\n",
    "\n",
    "sns.set(style=\"white\")"
   ]
  },
  {
   "cell_type": "markdown",
   "metadata": {},
   "source": [
    "<a id=\"database_connection\"></a>"
   ]
  },
  {
   "cell_type": "code",
   "execution_count": 2,
   "metadata": {
    "collapsed": true
   },
   "outputs": [],
   "source": [
    "# database connection\n",
    "try:\n",
    "    conn = psycopg2.connect(\"dbname='gpadmin' user='gpadmin' host='gpdb' password='pivotal'\")\n",
    "    cur = conn.cursor()\n",
    "    conn.autocommit = True\n",
    "except:\n",
    "    print \"I am unable to connect to the database\""
   ]
  },
  {
   "cell_type": "markdown",
   "metadata": {},
   "source": [
    "## Data Loading"
   ]
  },
  {
   "cell_type": "code",
   "execution_count": 3,
   "metadata": {},
   "outputs": [
    {
     "data": {
      "text/plain": [
       "('OnlineRetail.xlsx', <httplib.HTTPMessage instance at 0x7f067ef5ce18>)"
      ]
     },
     "execution_count": 3,
     "metadata": {},
     "output_type": "execute_result"
    }
   ],
   "source": [
    "# download xlsx file\n",
    "dls = \"http://archive.ics.uci.edu/ml/machine-learning-databases/00352/Online%20Retail.xlsx\"\n",
    "urllib.urlretrieve(dls, \"OnlineRetail.xlsx\")"
   ]
  },
  {
   "cell_type": "code",
   "execution_count": 65,
   "metadata": {
    "collapsed": true
   },
   "outputs": [],
   "source": [
    "# create table shell in gpdb\n",
    "query = \"\"\"\n",
    "    DROP TABLE IF EXISTS public.online_retail_data\n",
    "\"\"\"\n",
    "cur.execute(query)\n",
    "\n",
    "ddl = \"\"\"\n",
    "    CREATE TABLE public.online_retail_data (\n",
    "        invoiceno text\n",
    "       ,stockcode text\n",
    "       ,description text\n",
    "       ,quantity float\n",
    "       ,invoicedate timestamp\n",
    "       ,unitprice float\n",
    "       ,customerid text\n",
    "       ,country text\n",
    "    ) DISTRIBUTED BY (invoiceno);\n",
    "\"\"\"\n",
    "cur.execute(ddl)"
   ]
  },
  {
   "cell_type": "code",
   "execution_count": 66,
   "metadata": {
    "collapsed": true
   },
   "outputs": [],
   "source": [
    "# check if string contains all acsii characters\n",
    "def is_ascii(s):\n",
    "    if isinstance(s, float) or isinstance(s, int):\n",
    "        return True\n",
    "    else:\n",
    "        return all(ord(c) < 128 for c in s)"
   ]
  },
  {
   "cell_type": "code",
   "execution_count": 67,
   "metadata": {
    "collapsed": true
   },
   "outputs": [],
   "source": [
    "def xlsx_timestamp_to_gpdb(dt):\n",
    "    d = xlrd.xldate_as_tuple(dt,0)\n",
    "    return \"{}-{:02d}-{:02d} {:02d}:{:02d}:{:02d}\".format(d[0],d[1],d[2],d[3],d[4],d[5])"
   ]
  },
  {
   "cell_type": "code",
   "execution_count": 68,
   "metadata": {
    "collapsed": true
   },
   "outputs": [],
   "source": [
    "# function to insert records into existing table\n",
    "def create_row(types, record):\n",
    "    rowValues = '';\n",
    "        \n",
    "    for i in range(0,len(types)):\n",
    "        \n",
    "        # remove non-ascii characters (replaces with whitespace)\n",
    "        # Example:\n",
    "        # Dotcomgiftshop Gift Voucher £40.00\n",
    "        # Dotcomgiftshop Gift Voucher  40.00\n",
    "        if is_ascii(record[i]) == False:  \n",
    "            record[i] = re.sub(r'[^\\x00-\\x7F]+',' ', record[i])\n",
    "        \n",
    "        if record[i] == '':\n",
    "            rowValues = rowValues + \", null\"\n",
    "        else:\n",
    "            # add single quotes around text fields\n",
    "            if types[i] in ['text','varchar']:\n",
    "                rowValues = rowValues + \",$r${}$r$\".format(str(record[i]))\n",
    "            elif types[i] == 'timestamp':\n",
    "                rowValues = rowValues + \",'{}'\".format(xlsx_timestamp_to_gpdb(record[i])) \n",
    "            else:\n",
    "                rowValues = rowValues + \",{}\".format(record[i])\n",
    "            \n",
    "    return \",({})\".format(rowValues[1:])"
   ]
  },
  {
   "cell_type": "code",
   "execution_count": 69,
   "metadata": {},
   "outputs": [],
   "source": [
    "# load xlsx file into gpdb\n",
    "def load_xlsx_file(xlsxFilename):\n",
    "    \n",
    "    # open workbook\n",
    "    workbook = xlrd.open_workbook(xlsxFilename)\n",
    "    sheet = workbook.sheet_by_index(0)\n",
    "    \n",
    "    prep_data = ''\n",
    "    \n",
    "    # iterate through rows in sheet sheet.nrows\n",
    "    for r in range(1,sheet.nrows):\n",
    "        \n",
    "        rec = sheet.row_values(r)\n",
    "        \n",
    "        colTypes = [\"text\",\"text\",\"text\",\"float\",\"timestamp\",\"float\",\"text\",\"text\"]\n",
    "        \n",
    "        prep_data = prep_data + create_row(colTypes,rec)\n",
    "        \n",
    "        # batch load N records at a time\n",
    "        if (r % 1000) == 0:  \n",
    "            query = \"\"\"\n",
    "                INSERT INTO public.online_retail_data VALUES {}\n",
    "            \"\"\".format(prep_data[1:])\n",
    "            cur.execute(query)\n",
    "            prep_data = ''\n",
    "    \n",
    "    # load any remaining records\n",
    "    if prep_data != '':\n",
    "        query = \"\"\"\n",
    "              INSERT INTO public.online_retail_data VALUES {}\n",
    "        \"\"\".format(prep_data[1:])\n",
    "        cur.execute(query)       \n",
    "\n",
    "    # clean up\n",
    "    workbook.release_resources()\n",
    "    del workbook\n",
    "    \n",
    "load_xlsx_file(\"OnlineRetail.xlsx\")"
   ]
  },
  {
   "cell_type": "code",
   "execution_count": 70,
   "metadata": {},
   "outputs": [],
   "source": [
    "# parse cancellation field out of invoiceno\n",
    "query = \"\"\"\n",
    "    DROP TABLE IF EXISTS public.online_retail_data_2;\n",
    "    CREATE TABLE public.online_retail_data_2 AS\n",
    "    SELECT CASE WHEN substring(invoiceno,1,1) = 'C' THEN 1 ELSE 0 END AS cancellation\n",
    "          ,CASE WHEN substring(invoiceno,1,1) = 'C' THEN substring(invoiceno,2,6)\n",
    "                ELSE substring(invoiceno,1,6)\n",
    "           END AS invoiceno\n",
    "          ,stockcode \n",
    "          ,description \n",
    "          ,quantity \n",
    "          ,invoicedate\n",
    "          ,unitprice \n",
    "          ,customerid \n",
    "          ,country \n",
    "    FROM public.online_retail_data\n",
    "    DISTRIBUTED BY (invoiceno);\n",
    "    DROP TABLE public.online_retail_data;\n",
    "    ALTER TABLE public.online_retail_data_2 RENAME TO online_retail_data;\n",
    "\"\"\"\n",
    "\n",
    "cur.execute(query)"
   ]
  },
  {
   "cell_type": "code",
   "execution_count": 71,
   "metadata": {},
   "outputs": [
    {
     "data": {
      "text/html": [
       "<div>\n",
       "<style>\n",
       "    .dataframe thead tr:only-child th {\n",
       "        text-align: right;\n",
       "    }\n",
       "\n",
       "    .dataframe thead th {\n",
       "        text-align: left;\n",
       "    }\n",
       "\n",
       "    .dataframe tbody tr th {\n",
       "        vertical-align: top;\n",
       "    }\n",
       "</style>\n",
       "<table border=\"1\" class=\"dataframe\">\n",
       "  <thead>\n",
       "    <tr style=\"text-align: right;\">\n",
       "      <th></th>\n",
       "      <th>0</th>\n",
       "      <th>1</th>\n",
       "      <th>2</th>\n",
       "      <th>3</th>\n",
       "      <th>4</th>\n",
       "      <th>5</th>\n",
       "      <th>6</th>\n",
       "      <th>7</th>\n",
       "      <th>8</th>\n",
       "    </tr>\n",
       "  </thead>\n",
       "  <tbody>\n",
       "    <tr>\n",
       "      <th>0</th>\n",
       "      <td>0</td>\n",
       "      <td>536365</td>\n",
       "      <td>85123A</td>\n",
       "      <td>WHITE HANGING HEART T-LIGHT HOLDER</td>\n",
       "      <td>6.0</td>\n",
       "      <td>2010-12-01 08:26:00</td>\n",
       "      <td>2.55</td>\n",
       "      <td>17850.0</td>\n",
       "      <td>United Kingdom</td>\n",
       "    </tr>\n",
       "    <tr>\n",
       "      <th>1</th>\n",
       "      <td>0</td>\n",
       "      <td>536365</td>\n",
       "      <td>71053.0</td>\n",
       "      <td>WHITE METAL LANTERN</td>\n",
       "      <td>6.0</td>\n",
       "      <td>2010-12-01 08:26:00</td>\n",
       "      <td>3.39</td>\n",
       "      <td>17850.0</td>\n",
       "      <td>United Kingdom</td>\n",
       "    </tr>\n",
       "    <tr>\n",
       "      <th>2</th>\n",
       "      <td>0</td>\n",
       "      <td>536365</td>\n",
       "      <td>84406B</td>\n",
       "      <td>CREAM CUPID HEARTS COAT HANGER</td>\n",
       "      <td>8.0</td>\n",
       "      <td>2010-12-01 08:26:00</td>\n",
       "      <td>2.75</td>\n",
       "      <td>17850.0</td>\n",
       "      <td>United Kingdom</td>\n",
       "    </tr>\n",
       "    <tr>\n",
       "      <th>3</th>\n",
       "      <td>0</td>\n",
       "      <td>536365</td>\n",
       "      <td>84029G</td>\n",
       "      <td>KNITTED UNION FLAG HOT WATER BOTTLE</td>\n",
       "      <td>6.0</td>\n",
       "      <td>2010-12-01 08:26:00</td>\n",
       "      <td>3.39</td>\n",
       "      <td>17850.0</td>\n",
       "      <td>United Kingdom</td>\n",
       "    </tr>\n",
       "    <tr>\n",
       "      <th>4</th>\n",
       "      <td>0</td>\n",
       "      <td>536365</td>\n",
       "      <td>84029E</td>\n",
       "      <td>RED WOOLLY HOTTIE WHITE HEART.</td>\n",
       "      <td>6.0</td>\n",
       "      <td>2010-12-01 08:26:00</td>\n",
       "      <td>3.39</td>\n",
       "      <td>17850.0</td>\n",
       "      <td>United Kingdom</td>\n",
       "    </tr>\n",
       "    <tr>\n",
       "      <th>5</th>\n",
       "      <td>0</td>\n",
       "      <td>536365</td>\n",
       "      <td>22752.0</td>\n",
       "      <td>SET 7 BABUSHKA NESTING BOXES</td>\n",
       "      <td>2.0</td>\n",
       "      <td>2010-12-01 08:26:00</td>\n",
       "      <td>7.65</td>\n",
       "      <td>17850.0</td>\n",
       "      <td>United Kingdom</td>\n",
       "    </tr>\n",
       "    <tr>\n",
       "      <th>6</th>\n",
       "      <td>0</td>\n",
       "      <td>536365</td>\n",
       "      <td>21730.0</td>\n",
       "      <td>GLASS STAR FROSTED T-LIGHT HOLDER</td>\n",
       "      <td>6.0</td>\n",
       "      <td>2010-12-01 08:26:00</td>\n",
       "      <td>4.25</td>\n",
       "      <td>17850.0</td>\n",
       "      <td>United Kingdom</td>\n",
       "    </tr>\n",
       "    <tr>\n",
       "      <th>7</th>\n",
       "      <td>0</td>\n",
       "      <td>536367</td>\n",
       "      <td>84879.0</td>\n",
       "      <td>ASSORTED COLOUR BIRD ORNAMENT</td>\n",
       "      <td>32.0</td>\n",
       "      <td>2010-12-01 08:34:00</td>\n",
       "      <td>1.69</td>\n",
       "      <td>13047.0</td>\n",
       "      <td>United Kingdom</td>\n",
       "    </tr>\n",
       "    <tr>\n",
       "      <th>8</th>\n",
       "      <td>0</td>\n",
       "      <td>536367</td>\n",
       "      <td>22745.0</td>\n",
       "      <td>POPPY'S PLAYHOUSE BEDROOM</td>\n",
       "      <td>6.0</td>\n",
       "      <td>2010-12-01 08:34:00</td>\n",
       "      <td>2.10</td>\n",
       "      <td>13047.0</td>\n",
       "      <td>United Kingdom</td>\n",
       "    </tr>\n",
       "    <tr>\n",
       "      <th>9</th>\n",
       "      <td>0</td>\n",
       "      <td>536367</td>\n",
       "      <td>22748.0</td>\n",
       "      <td>POPPY'S PLAYHOUSE KITCHEN</td>\n",
       "      <td>6.0</td>\n",
       "      <td>2010-12-01 08:34:00</td>\n",
       "      <td>2.10</td>\n",
       "      <td>13047.0</td>\n",
       "      <td>United Kingdom</td>\n",
       "    </tr>\n",
       "  </tbody>\n",
       "</table>\n",
       "</div>"
      ],
      "text/plain": [
       "   0       1        2                                    3     4  \\\n",
       "0  0  536365   85123A   WHITE HANGING HEART T-LIGHT HOLDER   6.0   \n",
       "1  0  536365  71053.0                  WHITE METAL LANTERN   6.0   \n",
       "2  0  536365   84406B       CREAM CUPID HEARTS COAT HANGER   8.0   \n",
       "3  0  536365   84029G  KNITTED UNION FLAG HOT WATER BOTTLE   6.0   \n",
       "4  0  536365   84029E       RED WOOLLY HOTTIE WHITE HEART.   6.0   \n",
       "5  0  536365  22752.0         SET 7 BABUSHKA NESTING BOXES   2.0   \n",
       "6  0  536365  21730.0    GLASS STAR FROSTED T-LIGHT HOLDER   6.0   \n",
       "7  0  536367  84879.0        ASSORTED COLOUR BIRD ORNAMENT  32.0   \n",
       "8  0  536367  22745.0           POPPY'S PLAYHOUSE BEDROOM    6.0   \n",
       "9  0  536367  22748.0            POPPY'S PLAYHOUSE KITCHEN   6.0   \n",
       "\n",
       "                    5     6        7               8  \n",
       "0 2010-12-01 08:26:00  2.55  17850.0  United Kingdom  \n",
       "1 2010-12-01 08:26:00  3.39  17850.0  United Kingdom  \n",
       "2 2010-12-01 08:26:00  2.75  17850.0  United Kingdom  \n",
       "3 2010-12-01 08:26:00  3.39  17850.0  United Kingdom  \n",
       "4 2010-12-01 08:26:00  3.39  17850.0  United Kingdom  \n",
       "5 2010-12-01 08:26:00  7.65  17850.0  United Kingdom  \n",
       "6 2010-12-01 08:26:00  4.25  17850.0  United Kingdom  \n",
       "7 2010-12-01 08:34:00  1.69  13047.0  United Kingdom  \n",
       "8 2010-12-01 08:34:00  2.10  13047.0  United Kingdom  \n",
       "9 2010-12-01 08:34:00  2.10  13047.0  United Kingdom  "
      ]
     },
     "execution_count": 71,
     "metadata": {},
     "output_type": "execute_result"
    }
   ],
   "source": [
    "query = \"\"\"\n",
    "    SELECT cancellation\n",
    "          ,invoiceno\n",
    "          ,stockcode \n",
    "          ,description \n",
    "          ,quantity \n",
    "          ,invoicedate\n",
    "          ,unitprice \n",
    "          ,customerid \n",
    "          ,country \n",
    "    FROM public.online_retail_data\n",
    "    LIMIT 10\n",
    "\"\"\"\n",
    "cur.execute(query)\n",
    "pd.DataFrame(cur.fetchall())"
   ]
  },
  {
   "cell_type": "code",
   "execution_count": 72,
   "metadata": {},
   "outputs": [
    {
     "data": {
      "text/html": [
       "<div>\n",
       "<style>\n",
       "    .dataframe thead tr:only-child th {\n",
       "        text-align: right;\n",
       "    }\n",
       "\n",
       "    .dataframe thead th {\n",
       "        text-align: left;\n",
       "    }\n",
       "\n",
       "    .dataframe tbody tr th {\n",
       "        vertical-align: top;\n",
       "    }\n",
       "</style>\n",
       "<table border=\"1\" class=\"dataframe\">\n",
       "  <thead>\n",
       "    <tr style=\"text-align: right;\">\n",
       "      <th></th>\n",
       "      <th>0</th>\n",
       "    </tr>\n",
       "  </thead>\n",
       "  <tbody>\n",
       "    <tr>\n",
       "      <th>0</th>\n",
       "      <td>541909</td>\n",
       "    </tr>\n",
       "  </tbody>\n",
       "</table>\n",
       "</div>"
      ],
      "text/plain": [
       "        0\n",
       "0  541909"
      ]
     },
     "execution_count": 72,
     "metadata": {},
     "output_type": "execute_result"
    }
   ],
   "source": [
    "query = \"\"\"\n",
    "    SELECT count(*)\n",
    "    FROM public.online_retail_data\n",
    "\"\"\"\n",
    "cur.execute(query)\n",
    "pd.DataFrame(cur.fetchall())"
   ]
  },
  {
   "cell_type": "markdown",
   "metadata": {},
   "source": [
    "## Data Audit"
   ]
  },
  {
   "cell_type": "markdown",
   "metadata": {},
   "source": [
    "<a id=\"summary_statistics\"></a>\n",
    "Summary Statistics"
   ]
  },
  {
   "cell_type": "code",
   "execution_count": 73,
   "metadata": {},
   "outputs": [],
   "source": [
    "# drop existing table\n",
    "query = \"\"\"\n",
    "    DROP TABLE IF EXISTS public.online_retail_summary;\n",
    "\"\"\"\n",
    "cur.execute(query)\n",
    "\n",
    "# run madlib summary stats function\n",
    "query = \"\"\"\n",
    "    SELECT madlib.summary('public.online_retail_data','public.online_retail_summary');\n",
    "\"\"\"\n",
    "cur.execute(query)\n",
    "\n",
    "# grab results from gpdb\n",
    "query = \"\"\"\n",
    "    SELECT * FROM public.online_retail_summary;\n",
    "\"\"\"\n",
    "cur.execute(query)\n",
    "\n",
    "colnames = [desc[0] for desc in cur.description]\n",
    "or_summary = pd.DataFrame(cur.fetchall(), columns=colnames)"
   ]
  },
  {
   "cell_type": "code",
   "execution_count": 74,
   "metadata": {},
   "outputs": [
    {
     "data": {
      "text/html": [
       "<div>\n",
       "<style>\n",
       "    .dataframe thead tr:only-child th {\n",
       "        text-align: right;\n",
       "    }\n",
       "\n",
       "    .dataframe thead th {\n",
       "        text-align: left;\n",
       "    }\n",
       "\n",
       "    .dataframe tbody tr th {\n",
       "        vertical-align: top;\n",
       "    }\n",
       "</style>\n",
       "<table border=\"1\" class=\"dataframe\">\n",
       "  <thead>\n",
       "    <tr style=\"text-align: right;\">\n",
       "      <th></th>\n",
       "      <th>group_by</th>\n",
       "      <th>group_by_value</th>\n",
       "      <th>target_column</th>\n",
       "      <th>column_number</th>\n",
       "      <th>data_type</th>\n",
       "      <th>row_count</th>\n",
       "      <th>distinct_values</th>\n",
       "      <th>missing_values</th>\n",
       "      <th>blank_values</th>\n",
       "      <th>fraction_missing</th>\n",
       "      <th>fraction_blank</th>\n",
       "      <th>mean</th>\n",
       "      <th>variance</th>\n",
       "      <th>min</th>\n",
       "      <th>max</th>\n",
       "      <th>first_quartile</th>\n",
       "      <th>median</th>\n",
       "      <th>third_quartile</th>\n",
       "      <th>most_frequent_values</th>\n",
       "      <th>mfv_frequencies</th>\n",
       "    </tr>\n",
       "  </thead>\n",
       "  <tbody>\n",
       "    <tr>\n",
       "      <th>0</th>\n",
       "      <td>None</td>\n",
       "      <td>None</td>\n",
       "      <td>cancellation</td>\n",
       "      <td>1</td>\n",
       "      <td>int4</td>\n",
       "      <td>541909</td>\n",
       "      <td>2</td>\n",
       "      <td>0</td>\n",
       "      <td>NaN</td>\n",
       "      <td>0.000000</td>\n",
       "      <td>NaN</td>\n",
       "      <td>0.017139</td>\n",
       "      <td>0.016846</td>\n",
       "      <td>0.00</td>\n",
       "      <td>1.0</td>\n",
       "      <td>0.00</td>\n",
       "      <td>0.00</td>\n",
       "      <td>0.00</td>\n",
       "      <td>[0, 0, 1, 1]</td>\n",
       "      <td>[532621, 532621, 9288, 9288]</td>\n",
       "    </tr>\n",
       "    <tr>\n",
       "      <th>1</th>\n",
       "      <td>None</td>\n",
       "      <td>None</td>\n",
       "      <td>invoiceno</td>\n",
       "      <td>2</td>\n",
       "      <td>text</td>\n",
       "      <td>541909</td>\n",
       "      <td>26376</td>\n",
       "      <td>0</td>\n",
       "      <td>0.0</td>\n",
       "      <td>0.000000</td>\n",
       "      <td>0.000000</td>\n",
       "      <td>NaN</td>\n",
       "      <td>NaN</td>\n",
       "      <td>6.00</td>\n",
       "      <td>6.0</td>\n",
       "      <td>NaN</td>\n",
       "      <td>NaN</td>\n",
       "      <td>NaN</td>\n",
       "      <td>[573585, 580729, 579777, 581219, 581492, 58073...</td>\n",
       "      <td>[1421, 1203, 1095, 1070, 1029, 979, 969, 943, ...</td>\n",
       "    </tr>\n",
       "    <tr>\n",
       "      <th>2</th>\n",
       "      <td>None</td>\n",
       "      <td>None</td>\n",
       "      <td>stockcode</td>\n",
       "      <td>3</td>\n",
       "      <td>text</td>\n",
       "      <td>541909</td>\n",
       "      <td>4070</td>\n",
       "      <td>0</td>\n",
       "      <td>0.0</td>\n",
       "      <td>0.000000</td>\n",
       "      <td>0.000000</td>\n",
       "      <td>NaN</td>\n",
       "      <td>NaN</td>\n",
       "      <td>1.00</td>\n",
       "      <td>12.0</td>\n",
       "      <td>NaN</td>\n",
       "      <td>NaN</td>\n",
       "      <td>NaN</td>\n",
       "      <td>[85123A, 85123A, 22423.0, 22423.0, 85099B, 850...</td>\n",
       "      <td>[2324, 2324, 2203, 2203, 2166, 2166, 1808, 180...</td>\n",
       "    </tr>\n",
       "    <tr>\n",
       "      <th>3</th>\n",
       "      <td>None</td>\n",
       "      <td>None</td>\n",
       "      <td>description</td>\n",
       "      <td>4</td>\n",
       "      <td>text</td>\n",
       "      <td>541909</td>\n",
       "      <td>4223</td>\n",
       "      <td>1454</td>\n",
       "      <td>55.0</td>\n",
       "      <td>0.002683</td>\n",
       "      <td>0.000101</td>\n",
       "      <td>NaN</td>\n",
       "      <td>NaN</td>\n",
       "      <td>1.00</td>\n",
       "      <td>35.0</td>\n",
       "      <td>NaN</td>\n",
       "      <td>NaN</td>\n",
       "      <td>NaN</td>\n",
       "      <td>[WHITE HANGING HEART T-LIGHT HOLDER, WHITE HAN...</td>\n",
       "      <td>[2449, 2449, 2243, 2243, 2208, 2208, 1737, 173...</td>\n",
       "    </tr>\n",
       "    <tr>\n",
       "      <th>4</th>\n",
       "      <td>None</td>\n",
       "      <td>None</td>\n",
       "      <td>quantity</td>\n",
       "      <td>5</td>\n",
       "      <td>float8</td>\n",
       "      <td>541909</td>\n",
       "      <td>722</td>\n",
       "      <td>0</td>\n",
       "      <td>NaN</td>\n",
       "      <td>0.000000</td>\n",
       "      <td>NaN</td>\n",
       "      <td>9.552250</td>\n",
       "      <td>47559.391409</td>\n",
       "      <td>-80995.00</td>\n",
       "      <td>80995.0</td>\n",
       "      <td>1.00</td>\n",
       "      <td>3.00</td>\n",
       "      <td>10.00</td>\n",
       "      <td>[1, 1, 2, 2, 12, 12, 6, 6, 4, 4]</td>\n",
       "      <td>[148227, 148227, 81829, 81829, 61063, 61063, 4...</td>\n",
       "    </tr>\n",
       "    <tr>\n",
       "      <th>5</th>\n",
       "      <td>None</td>\n",
       "      <td>None</td>\n",
       "      <td>invoicedate</td>\n",
       "      <td>6</td>\n",
       "      <td>timestamp</td>\n",
       "      <td>541909</td>\n",
       "      <td>23414</td>\n",
       "      <td>0</td>\n",
       "      <td>NaN</td>\n",
       "      <td>0.000000</td>\n",
       "      <td>NaN</td>\n",
       "      <td>NaN</td>\n",
       "      <td>NaN</td>\n",
       "      <td>NaN</td>\n",
       "      <td>NaN</td>\n",
       "      <td>NaN</td>\n",
       "      <td>NaN</td>\n",
       "      <td>NaN</td>\n",
       "      <td>[2011-10-31 14:41:00, 2011-12-08 09:28:00, 201...</td>\n",
       "      <td>[1314, 1092, 1050, 1045, 1042, 1038, 1037, 102...</td>\n",
       "    </tr>\n",
       "    <tr>\n",
       "      <th>6</th>\n",
       "      <td>None</td>\n",
       "      <td>None</td>\n",
       "      <td>unitprice</td>\n",
       "      <td>7</td>\n",
       "      <td>float8</td>\n",
       "      <td>541909</td>\n",
       "      <td>1630</td>\n",
       "      <td>0</td>\n",
       "      <td>NaN</td>\n",
       "      <td>0.000000</td>\n",
       "      <td>NaN</td>\n",
       "      <td>4.611114</td>\n",
       "      <td>9362.469164</td>\n",
       "      <td>-11062.06</td>\n",
       "      <td>38970.0</td>\n",
       "      <td>1.25</td>\n",
       "      <td>2.08</td>\n",
       "      <td>4.13</td>\n",
       "      <td>[1.25, 1.25, 1.65, 1.65, 0.85, 0.85, 2.95, 2.9...</td>\n",
       "      <td>[50496, 50496, 38182, 38182, 28497, 28497, 277...</td>\n",
       "    </tr>\n",
       "    <tr>\n",
       "      <th>7</th>\n",
       "      <td>None</td>\n",
       "      <td>None</td>\n",
       "      <td>customerid</td>\n",
       "      <td>8</td>\n",
       "      <td>text</td>\n",
       "      <td>541909</td>\n",
       "      <td>4372</td>\n",
       "      <td>135080</td>\n",
       "      <td>0.0</td>\n",
       "      <td>0.249267</td>\n",
       "      <td>0.000000</td>\n",
       "      <td>NaN</td>\n",
       "      <td>NaN</td>\n",
       "      <td>7.00</td>\n",
       "      <td>7.0</td>\n",
       "      <td>NaN</td>\n",
       "      <td>NaN</td>\n",
       "      <td>NaN</td>\n",
       "      <td>[17841.0, 17841.0, 14911.0, 14911.0, 14096.0, ...</td>\n",
       "      <td>[7983, 7983, 5903, 5903, 5192, 5192, 4642, 464...</td>\n",
       "    </tr>\n",
       "    <tr>\n",
       "      <th>8</th>\n",
       "      <td>None</td>\n",
       "      <td>None</td>\n",
       "      <td>country</td>\n",
       "      <td>9</td>\n",
       "      <td>text</td>\n",
       "      <td>541909</td>\n",
       "      <td>38</td>\n",
       "      <td>0</td>\n",
       "      <td>0.0</td>\n",
       "      <td>0.000000</td>\n",
       "      <td>0.000000</td>\n",
       "      <td>NaN</td>\n",
       "      <td>NaN</td>\n",
       "      <td>3.00</td>\n",
       "      <td>20.0</td>\n",
       "      <td>NaN</td>\n",
       "      <td>NaN</td>\n",
       "      <td>NaN</td>\n",
       "      <td>[United Kingdom, United Kingdom, Germany, Germ...</td>\n",
       "      <td>[495478, 495478, 9495, 9495, 8557, 8557, 8196,...</td>\n",
       "    </tr>\n",
       "  </tbody>\n",
       "</table>\n",
       "</div>"
      ],
      "text/plain": [
       "  group_by group_by_value target_column  column_number  data_type  row_count  \\\n",
       "0     None           None  cancellation              1       int4     541909   \n",
       "1     None           None     invoiceno              2       text     541909   \n",
       "2     None           None     stockcode              3       text     541909   \n",
       "3     None           None   description              4       text     541909   \n",
       "4     None           None      quantity              5     float8     541909   \n",
       "5     None           None   invoicedate              6  timestamp     541909   \n",
       "6     None           None     unitprice              7     float8     541909   \n",
       "7     None           None    customerid              8       text     541909   \n",
       "8     None           None       country              9       text     541909   \n",
       "\n",
       "   distinct_values  missing_values  blank_values  fraction_missing  \\\n",
       "0                2               0           NaN          0.000000   \n",
       "1            26376               0           0.0          0.000000   \n",
       "2             4070               0           0.0          0.000000   \n",
       "3             4223            1454          55.0          0.002683   \n",
       "4              722               0           NaN          0.000000   \n",
       "5            23414               0           NaN          0.000000   \n",
       "6             1630               0           NaN          0.000000   \n",
       "7             4372          135080           0.0          0.249267   \n",
       "8               38               0           0.0          0.000000   \n",
       "\n",
       "   fraction_blank      mean      variance       min      max  first_quartile  \\\n",
       "0             NaN  0.017139      0.016846      0.00      1.0            0.00   \n",
       "1        0.000000       NaN           NaN      6.00      6.0             NaN   \n",
       "2        0.000000       NaN           NaN      1.00     12.0             NaN   \n",
       "3        0.000101       NaN           NaN      1.00     35.0             NaN   \n",
       "4             NaN  9.552250  47559.391409 -80995.00  80995.0            1.00   \n",
       "5             NaN       NaN           NaN       NaN      NaN             NaN   \n",
       "6             NaN  4.611114   9362.469164 -11062.06  38970.0            1.25   \n",
       "7        0.000000       NaN           NaN      7.00      7.0             NaN   \n",
       "8        0.000000       NaN           NaN      3.00     20.0             NaN   \n",
       "\n",
       "   median  third_quartile                               most_frequent_values  \\\n",
       "0    0.00            0.00                                       [0, 0, 1, 1]   \n",
       "1     NaN             NaN  [573585, 580729, 579777, 581219, 581492, 58073...   \n",
       "2     NaN             NaN  [85123A, 85123A, 22423.0, 22423.0, 85099B, 850...   \n",
       "3     NaN             NaN  [WHITE HANGING HEART T-LIGHT HOLDER, WHITE HAN...   \n",
       "4    3.00           10.00                   [1, 1, 2, 2, 12, 12, 6, 6, 4, 4]   \n",
       "5     NaN             NaN  [2011-10-31 14:41:00, 2011-12-08 09:28:00, 201...   \n",
       "6    2.08            4.13  [1.25, 1.25, 1.65, 1.65, 0.85, 0.85, 2.95, 2.9...   \n",
       "7     NaN             NaN  [17841.0, 17841.0, 14911.0, 14911.0, 14096.0, ...   \n",
       "8     NaN             NaN  [United Kingdom, United Kingdom, Germany, Germ...   \n",
       "\n",
       "                                     mfv_frequencies  \n",
       "0                       [532621, 532621, 9288, 9288]  \n",
       "1  [1421, 1203, 1095, 1070, 1029, 979, 969, 943, ...  \n",
       "2  [2324, 2324, 2203, 2203, 2166, 2166, 1808, 180...  \n",
       "3  [2449, 2449, 2243, 2243, 2208, 2208, 1737, 173...  \n",
       "4  [148227, 148227, 81829, 81829, 61063, 61063, 4...  \n",
       "5  [1314, 1092, 1050, 1045, 1042, 1038, 1037, 102...  \n",
       "6  [50496, 50496, 38182, 38182, 28497, 28497, 277...  \n",
       "7  [7983, 7983, 5903, 5903, 5192, 5192, 4642, 464...  \n",
       "8  [495478, 495478, 9495, 9495, 8557, 8557, 8196,...  "
      ]
     },
     "execution_count": 74,
     "metadata": {},
     "output_type": "execute_result"
    }
   ],
   "source": [
    "or_summary"
   ]
  },
  {
   "cell_type": "markdown",
   "metadata": {},
   "source": [
    "<a id=\"missing_data\"></a>"
   ]
  },
  {
   "cell_type": "markdown",
   "metadata": {},
   "source": [
    "Missing data"
   ]
  },
  {
   "cell_type": "markdown",
   "metadata": {},
   "source": [
    "<a id=\"bar_plot\"></a>"
   ]
  },
  {
   "cell_type": "code",
   "execution_count": 80,
   "metadata": {
    "collapsed": true
   },
   "outputs": [],
   "source": [
    "def bar_plot(data,title,x,xLabel,y,yLabel,color=None,xAxisRotation=90):\n",
    "\n",
    "    # Bar plot\n",
    "    pylab.rcParams['figure.figsize'] = (12, 8)\n",
    "    seq_col_brew = sns.color_palette(\"Blues_r\", 1)\n",
    "    sns.color_palette(seq_col_brew)\n",
    "    if color != None:\n",
    "        plt = sns.barplot(x=x, y=y, data=data, color=color)\n",
    "    else:\n",
    "        plt = sns.barplot(x=x, y=y, data=data)\n",
    "        \n",
    "    # titles\n",
    "    plt.set_title(title,fontsize=30)\n",
    "    plt.set_xlabel(xLabel,fontsize=16)\n",
    "    plt.set_ylabel(yLabel,fontsize=16)\n",
    "    \n",
    "    # rotate x axis labels\n",
    "    for item in plt.get_xticklabels():\n",
    "        item.set_rotation(xAxisRotation)\n",
    "\n",
    "    # remove scientific notation\n",
    "    plt.ticklabel_format(style='plain', axis='y')\n",
    "\n",
    "    # add 1000s commas\n",
    "    #plt.get_yaxis().set_major_formatter(\n",
    "    #    matplotlib.ticker.FuncFormatter(lambda y, p: format(int(y), ',')))"
   ]
  },
  {
   "cell_type": "code",
   "execution_count": 84,
   "metadata": {},
   "outputs": [
    {
     "data": {
      "image/png": "[encoded data removed]",
      "text/plain": [
       "<matplotlib.figure.Figure at 0x7f0674d46810>"
      ]
     },
     "metadata": {},
     "output_type": "display_data"
    }
   ],
   "source": [
    "missing_counts = or_summary.sort_values('missing_values',ascending=False)\n",
    "missing_counts['perc_missing'] = missing_counts['fraction_missing'] * 100.0\n",
    "bar_plot(missing_counts,\"Missing Data\",\"target_column\",\"Column Name\",\"perc_missing\",\"% Missing\", \"#4378E2\")"
   ]
  },
  {
   "cell_type": "markdown",
   "metadata": {},
   "source": [
    "## Data Exploration"
   ]
  },
  {
   "cell_type": "code",
   "execution_count": null,
   "metadata": {
    "collapsed": true
   },
   "outputs": [],
   "source": [
    "def bar_plot_groupby(data,title,x,xLabel,y,yLabel,groupby,color=None,axisRotation=90):\n",
    "\n",
    "    # Bar plot\n",
    "    pylab.rcParams['figure.figsize'] = (12, 8)\n",
    "    seq_col_brew = sns.color_palette(\"Blues_r\", 1)\n",
    "    sns.color_palette(seq_col_brew)\n",
    "    if color != None:\n",
    "        plt = sns.barplot(x=x, y=y, data=data, color=color, hue=groupby)\n",
    "    else:\n",
    "        plt = sns.barplot(x=x, y=y, data=data, hue=groupby)\n",
    "        \n",
    "    # titles\n",
    "    plt.set_title(title,fontsize=30)\n",
    "    plt.set_xlabel(xLabel,fontsize=16)\n",
    "    plt.set_ylabel(yLabel,fontsize=16)\n",
    "    \n",
    "    # rotate x axis labels\n",
    "    for item in plt.get_xticklabels():\n",
    "        item.set_rotation(axisRotation)\n",
    "\n",
    "    # remove scientific notation\n",
    "    plt.ticklabel_format(style='plain', axis='y')\n",
    "\n",
    "    # add 1000s commas\n",
    "    plt.get_yaxis().set_major_formatter(\n",
    "        matplotlib.ticker.FuncFormatter(lambda y, p: format(int(y), ',')))"
   ]
  },
  {
   "cell_type": "code",
   "execution_count": null,
   "metadata": {
    "collapsed": true
   },
   "outputs": [],
   "source": [
    "* <a href=\"#de_cancellation\">Cancellation</a>\n",
    "* <a href=\"#de_invoiceno\">Invoice No</a>\n",
    "* <a href=\"#de_stockcode\">Stockcode</a>\n",
    "* <a href=\"#de_description\">Description</a>\n",
    "* <a href=\"#de_quantity\">Quantity</a>\n",
    "* <a href=\"#de_invoicedate\">Invoice Date</a>\n",
    "* <a href=\"#de_unitprice\">Unit Price</a>\n",
    "* <a href=\"#de_customerid\">Customer ID</a>\n",
    "* <a href=\"#de_country\">Country</a>"
   ]
  },
  {
   "cell_type": "markdown",
   "metadata": {},
   "source": [
    "<a id=\"de_cancellation\"></a>\n",
    "#### Cancellation"
   ]
  },
  {
   "cell_type": "code",
   "execution_count": null,
   "metadata": {
    "collapsed": true
   },
   "outputs": [],
   "source": [
    "<a id=\"de_invoiceno\"></a>\n",
    "#### Invoice No"
   ]
  },
  {
   "cell_type": "code",
   "execution_count": null,
   "metadata": {
    "collapsed": true
   },
   "outputs": [],
   "source": [
    "<a id=\"de_stockcode\"></a>\n",
    "#### Stockcode"
   ]
  },
  {
   "cell_type": "code",
   "execution_count": null,
   "metadata": {
    "collapsed": true
   },
   "outputs": [],
   "source": [
    "<a id=\"de_description\"></a>\n",
    "#### Description"
   ]
  },
  {
   "cell_type": "code",
   "execution_count": null,
   "metadata": {
    "collapsed": true
   },
   "outputs": [],
   "source": [
    "<a id=\"de_quantity\"></a>\n",
    "#### Quantity"
   ]
  },
  {
   "cell_type": "code",
   "execution_count": null,
   "metadata": {
    "collapsed": true
   },
   "outputs": [],
   "source": [
    "<a id=\"de_invoicedate\"></a>\n",
    "#### Invoice Date"
   ]
  },
  {
   "cell_type": "code",
   "execution_count": null,
   "metadata": {
    "collapsed": true
   },
   "outputs": [],
   "source": [
    "<a id=\"de_unitprice\"></a>\n",
    "#### Unit Price"
   ]
  },
  {
   "cell_type": "code",
   "execution_count": null,
   "metadata": {
    "collapsed": true
   },
   "outputs": [],
   "source": [
    "<a id=\"de_customerid\"></a>\n",
    "#### Customer ID"
   ]
  },
  {
   "cell_type": "code",
   "execution_count": null,
   "metadata": {
    "collapsed": true
   },
   "outputs": [],
   "source": [
    "<a id=\"de_country\"></a>\n",
    "#### Country"
   ]
  },
  {
   "cell_type": "markdown",
   "metadata": {},
   "source": [
    "## Feature Engineering"
   ]
  },
  {
   "cell_type": "markdown",
   "metadata": {},
   "source": [
    "## Model Training"
   ]
  },
  {
   "cell_type": "markdown",
   "metadata": {},
   "source": [
    "## Model Scoring"
   ]
  },
  {
   "cell_type": "code",
   "execution_count": null,
   "metadata": {
    "collapsed": true
   },
   "outputs": [],
   "source": []
  },
  {
   "cell_type": "code",
   "execution_count": null,
   "metadata": {
    "collapsed": true
   },
   "outputs": [],
   "source": []
  }
 ],
 "metadata": {
  "kernelspec": {
   "display_name": "Python 2",
   "language": "python",
   "name": "python2"
  },
  "language_info": {
   "codemirror_mode": {
    "name": "ipython",
    "version": 2
   },
   "file_extension": ".py",
   "mimetype": "text/x-python",
   "name": "python",
   "nbconvert_exporter": "python",
   "pygments_lexer": "ipython2",
   "version": "2.7.14"
  }
 },
 "nbformat": 4,
 "nbformat_minor": 2
}
