{
 "cells": [
  {
   "cell_type": "markdown",
   "metadata": {},
   "source": [
    "# Pivotal Greenplum-Spark Connector\n",
    "## PySpark Example\n",
    "\n",
    "----\n",
    "\n",
    "Pivotal Greenplum-Spark Connector documentation (notes below extracted from Pivotal documentation):\n",
    "\n",
    "https://greenplum-spark.docs.pivotal.io/110/index.html\n",
    "\n",
    "----\n",
    "\n",
    "Steps to launching Jupyter Notebook with Greenplum-Spark connector available\n",
    "\n",
    "1. Download greenplum-spark connector from Pivotal network https://network.pivotal.io/products/pivotal-gpdb (version used for this example greenplum-spark_2.11-1.1.0.jar)\n",
    "\n",
    "2. Set environment variables - pyspark will launch Jupyter Notebook\n",
    "```bash\n",
    "# set environment variables\n",
    "export PYSPARK_DRIVER_PYTHON='ipython'\n",
    "export PYSPARK_DRIVER_PYTHON_OPTS='notebook --port=8888 --no-browser --ip=0.0.0.0 --notebook_dir=/notebooks'\n",
    "```\n",
    "3. Launch Jupyter Notebook\n",
    "```bash\n",
    "# Launch notebooks\n",
    "# Set jar to location of greenplum-spark connector jar\n",
    "pyspark --master spark://spark:7077 --jars=../spark-jars/greenplum-spark_2.11-1.1.0.jar\n",
    "```\n",
    "\n",
    "*Note - Wine data set used in example https://archive.ics.uci.edu/ml/datasets/wine*\n",
    "\n",
    "----"
   ]
  },
  {
   "cell_type": "code",
   "execution_count": 93,
   "metadata": {
    "collapsed": true
   },
   "outputs": [],
   "source": [
    "# dependencies\n",
    "import pyspark              # http://spark.apache.org/docs/latest/api/python/"
   ]
  },
  {
   "cell_type": "markdown",
   "metadata": {},
   "source": [
    "Note that the .load() operation does not initiate the movement of data from Greenplum Database to Spark. \n",
    "Spark employs lazy evaluation for transformations; it does not compute the results until the application \n",
    "performs an action on the DataFrame, such as displaying or filtering the data or counting the number of rows.\n",
    "\n",
    "https://greenplum-spark.docs.pivotal.io/110/read_from_gpdb.html\n",
    "\n",
    "Options\n",
    "* **url** format jdbc:postgresql://[hostname]:[port]/[database]\n",
    "* **dbtable** table must be in GPDB search_path and have a distribution column (can not be distributed randomly)\n",
    "* **partitionColumn** must be of type in [bigint, bigserial, integer, serial]"
   ]
  },
  {
   "cell_type": "code",
   "execution_count": 84,
   "metadata": {
    "collapsed": true
   },
   "outputs": [],
   "source": [
    "# create pointer to table 'pivotal.testing' in greenplum\n",
    "gpdf = sqlContext.read.format(\"io.pivotal.greenplum.spark.GreenplumRelationProvider\").options(\n",
    "    url=\"jdbc:postgresql://gpdb:5432/gpadmin\",\n",
    "    user=\"gpadmin\",\n",
    "    password=\"pivotal\",\n",
    "    dbtable=\"wine\",\n",
    "    partitionColumn=\"cultivars\").load()\n"
   ]
  },
  {
   "cell_type": "markdown",
   "metadata": {},
   "source": [
    "Note: By default, Spark recomputes a transformed DataFrame each time you run an action on it. \n",
    "If you have a large data set on which you want to perform multiple transformations, you may choose \n",
    "to keep the DataFrame in memory for performance reasons. You can use the DataSet.persist() method \n",
    "for this purpose. Keep in mind that there are memory implications to persisting large data sets."
   ]
  },
  {
   "cell_type": "code",
   "execution_count": 85,
   "metadata": {},
   "outputs": [
    {
     "data": {
      "text/plain": [
       "DataFrame[cultivars: int, alcohol: double, malic_acid: double, ash: double, alcalinity_of_ash: double, magnesium: double, total_phenols: double, flavanoids: double, nonflavanoid_phenols: double, proanthocyanins: double, color_intensity: double, hue: double, od280_od315: double, proline: double]"
      ]
     },
     "execution_count": 85,
     "metadata": {},
     "output_type": "execute_result"
    }
   ],
   "source": [
    "gpdf.persist()"
   ]
  },
  {
   "cell_type": "code",
   "execution_count": 86,
   "metadata": {},
   "outputs": [
    {
     "name": "stdout",
     "output_type": "stream",
     "text": [
      "root\n",
      " |-- cultivars: integer (nullable = true)\n",
      " |-- alcohol: double (nullable = true)\n",
      " |-- malic_acid: double (nullable = true)\n",
      " |-- ash: double (nullable = true)\n",
      " |-- alcalinity_of_ash: double (nullable = true)\n",
      " |-- magnesium: double (nullable = true)\n",
      " |-- total_phenols: double (nullable = true)\n",
      " |-- flavanoids: double (nullable = true)\n",
      " |-- nonflavanoid_phenols: double (nullable = true)\n",
      " |-- proanthocyanins: double (nullable = true)\n",
      " |-- color_intensity: double (nullable = true)\n",
      " |-- hue: double (nullable = true)\n",
      " |-- od280_od315: double (nullable = true)\n",
      " |-- proline: double (nullable = true)\n",
      "\n"
     ]
    }
   ],
   "source": [
    "# Check out data types of columns\n",
    "gpdf.printSchema()"
   ]
  },
  {
   "cell_type": "code",
   "execution_count": 87,
   "metadata": {},
   "outputs": [
    {
     "data": {
      "text/plain": [
       "['cultivars',\n",
       " 'alcohol',\n",
       " 'malic_acid',\n",
       " 'ash',\n",
       " 'alcalinity_of_ash',\n",
       " 'magnesium',\n",
       " 'total_phenols',\n",
       " 'flavanoids',\n",
       " 'nonflavanoid_phenols',\n",
       " 'proanthocyanins',\n",
       " 'color_intensity',\n",
       " 'hue',\n",
       " 'od280_od315',\n",
       " 'proline']"
      ]
     },
     "execution_count": 87,
     "metadata": {},
     "output_type": "execute_result"
    }
   ],
   "source": [
    "# Column names \n",
    "gpdf.columns"
   ]
  },
  {
   "cell_type": "code",
   "execution_count": 88,
   "metadata": {},
   "outputs": [
    {
     "data": {
      "text/plain": [
       "178"
      ]
     },
     "execution_count": 88,
     "metadata": {},
     "output_type": "execute_result"
    }
   ],
   "source": [
    "# row count\n",
    "gpdf.count()"
   ]
  },
  {
   "cell_type": "code",
   "execution_count": 89,
   "metadata": {},
   "outputs": [
    {
     "name": "stdout",
     "output_type": "stream",
     "text": [
      "+---------+-------+----------+----+-----------------+---------+-------------+----------+--------------------+---------------+---------------+----+-----------+-------+\n",
      "|cultivars|alcohol|malic_acid| ash|alcalinity_of_ash|magnesium|total_phenols|flavanoids|nonflavanoid_phenols|proanthocyanins|color_intensity| hue|od280_od315|proline|\n",
      "+---------+-------+----------+----+-----------------+---------+-------------+----------+--------------------+---------------+---------------+----+-----------+-------+\n",
      "|        1|  13.16|      2.36|2.67|             18.6|    101.0|          2.8|      3.24|                 0.3|           2.81|           5.68|1.03|       3.17| 1185.0|\n",
      "|        1|  13.24|      2.59|2.87|             21.0|    118.0|          2.8|      2.69|                0.39|           1.82|           4.32|1.04|       2.93|  735.0|\n",
      "|        1|  13.75|      1.73|2.41|             16.0|     89.0|          2.6|      2.76|                0.29|           1.81|            5.6|1.15|        2.9| 1320.0|\n",
      "|        1|  14.75|      1.73|2.39|             11.4|     91.0|          3.1|      3.69|                0.43|           2.81|            5.4|1.25|       2.73| 1150.0|\n",
      "|        1|  14.38|      1.87|2.38|             12.0|    102.0|          3.3|      3.64|                0.29|           2.96|            7.5| 1.2|        3.0| 1547.0|\n",
      "+---------+-------+----------+----+-----------------+---------+-------------+----------+--------------------+---------------+---------------+----+-----------+-------+\n",
      "only showing top 5 rows\n",
      "\n"
     ]
    }
   ],
   "source": [
    "# show first 5 rows\n",
    "gpdf.show(5, truncate=True)"
   ]
  },
  {
   "cell_type": "code",
   "execution_count": 90,
   "metadata": {},
   "outputs": [
    {
     "data": {
      "text/html": [
       "<div>\n",
       "<style>\n",
       "    .dataframe thead tr:only-child th {\n",
       "        text-align: right;\n",
       "    }\n",
       "\n",
       "    .dataframe thead th {\n",
       "        text-align: left;\n",
       "    }\n",
       "\n",
       "    .dataframe tbody tr th {\n",
       "        vertical-align: top;\n",
       "    }\n",
       "</style>\n",
       "<table border=\"1\" class=\"dataframe\">\n",
       "  <thead>\n",
       "    <tr style=\"text-align: right;\">\n",
       "      <th></th>\n",
       "      <th>summary</th>\n",
       "      <th>cultivars</th>\n",
       "      <th>alcohol</th>\n",
       "      <th>malic_acid</th>\n",
       "      <th>ash</th>\n",
       "      <th>alcalinity_of_ash</th>\n",
       "      <th>magnesium</th>\n",
       "      <th>total_phenols</th>\n",
       "      <th>flavanoids</th>\n",
       "      <th>nonflavanoid_phenols</th>\n",
       "      <th>proanthocyanins</th>\n",
       "      <th>color_intensity</th>\n",
       "      <th>hue</th>\n",
       "      <th>od280_od315</th>\n",
       "      <th>proline</th>\n",
       "    </tr>\n",
       "  </thead>\n",
       "  <tbody>\n",
       "    <tr>\n",
       "      <th>0</th>\n",
       "      <td>count</td>\n",
       "      <td>178</td>\n",
       "      <td>178</td>\n",
       "      <td>178</td>\n",
       "      <td>178</td>\n",
       "      <td>178</td>\n",
       "      <td>178</td>\n",
       "      <td>178</td>\n",
       "      <td>178</td>\n",
       "      <td>178</td>\n",
       "      <td>178</td>\n",
       "      <td>178</td>\n",
       "      <td>178</td>\n",
       "      <td>178</td>\n",
       "      <td>178</td>\n",
       "    </tr>\n",
       "    <tr>\n",
       "      <th>1</th>\n",
       "      <td>mean</td>\n",
       "      <td>1.9382022471910112</td>\n",
       "      <td>13.000617977528092</td>\n",
       "      <td>2.3363483146067416</td>\n",
       "      <td>2.366516853932583</td>\n",
       "      <td>19.49494382022472</td>\n",
       "      <td>99.74157303370787</td>\n",
       "      <td>2.295112359550562</td>\n",
       "      <td>2.0292696629213482</td>\n",
       "      <td>0.3618539325842696</td>\n",
       "      <td>1.590898876404494</td>\n",
       "      <td>5.058089882022472</td>\n",
       "      <td>0.9574494382022468</td>\n",
       "      <td>2.611685393258428</td>\n",
       "      <td>746.8932584269663</td>\n",
       "    </tr>\n",
       "    <tr>\n",
       "      <th>2</th>\n",
       "      <td>stddev</td>\n",
       "      <td>0.7750349899850566</td>\n",
       "      <td>0.8118265380058567</td>\n",
       "      <td>1.1171460976144625</td>\n",
       "      <td>0.27434400906081485</td>\n",
       "      <td>3.3395637671735052</td>\n",
       "      <td>14.282483515295668</td>\n",
       "      <td>0.6258510488339892</td>\n",
       "      <td>0.9988586850169465</td>\n",
       "      <td>0.12445334029667939</td>\n",
       "      <td>0.5723588626747613</td>\n",
       "      <td>2.318285871822413</td>\n",
       "      <td>0.2285715658298234</td>\n",
       "      <td>0.7099904287650505</td>\n",
       "      <td>314.90747427684926</td>\n",
       "    </tr>\n",
       "    <tr>\n",
       "      <th>3</th>\n",
       "      <td>min</td>\n",
       "      <td>1</td>\n",
       "      <td>11.03</td>\n",
       "      <td>0.74</td>\n",
       "      <td>1.36</td>\n",
       "      <td>10.6</td>\n",
       "      <td>70.0</td>\n",
       "      <td>0.98</td>\n",
       "      <td>0.34</td>\n",
       "      <td>0.13</td>\n",
       "      <td>0.41</td>\n",
       "      <td>1.28</td>\n",
       "      <td>0.48</td>\n",
       "      <td>1.27</td>\n",
       "      <td>278.0</td>\n",
       "    </tr>\n",
       "    <tr>\n",
       "      <th>4</th>\n",
       "      <td>max</td>\n",
       "      <td>3</td>\n",
       "      <td>14.83</td>\n",
       "      <td>5.8</td>\n",
       "      <td>3.23</td>\n",
       "      <td>30.0</td>\n",
       "      <td>162.0</td>\n",
       "      <td>3.88</td>\n",
       "      <td>5.08</td>\n",
       "      <td>0.66</td>\n",
       "      <td>3.58</td>\n",
       "      <td>13.0</td>\n",
       "      <td>1.71</td>\n",
       "      <td>4.0</td>\n",
       "      <td>1680.0</td>\n",
       "    </tr>\n",
       "  </tbody>\n",
       "</table>\n",
       "</div>"
      ],
      "text/plain": [
       "  summary           cultivars             alcohol          malic_acid  \\\n",
       "0   count                 178                 178                 178   \n",
       "1    mean  1.9382022471910112  13.000617977528092  2.3363483146067416   \n",
       "2  stddev  0.7750349899850566  0.8118265380058567  1.1171460976144625   \n",
       "3     min                   1               11.03                0.74   \n",
       "4     max                   3               14.83                 5.8   \n",
       "\n",
       "                   ash   alcalinity_of_ash           magnesium  \\\n",
       "0                  178                 178                 178   \n",
       "1    2.366516853932583   19.49494382022472   99.74157303370787   \n",
       "2  0.27434400906081485  3.3395637671735052  14.282483515295668   \n",
       "3                 1.36                10.6                70.0   \n",
       "4                 3.23                30.0               162.0   \n",
       "\n",
       "        total_phenols          flavanoids nonflavanoid_phenols  \\\n",
       "0                 178                 178                  178   \n",
       "1   2.295112359550562  2.0292696629213482   0.3618539325842696   \n",
       "2  0.6258510488339892  0.9988586850169465  0.12445334029667939   \n",
       "3                0.98                0.34                 0.13   \n",
       "4                3.88                5.08                 0.66   \n",
       "\n",
       "      proanthocyanins    color_intensity                 hue  \\\n",
       "0                 178                178                 178   \n",
       "1   1.590898876404494  5.058089882022472  0.9574494382022468   \n",
       "2  0.5723588626747613  2.318285871822413  0.2285715658298234   \n",
       "3                0.41               1.28                0.48   \n",
       "4                3.58               13.0                1.71   \n",
       "\n",
       "          od280_od315             proline  \n",
       "0                 178                 178  \n",
       "1   2.611685393258428   746.8932584269663  \n",
       "2  0.7099904287650505  314.90747427684926  \n",
       "3                1.27               278.0  \n",
       "4                 4.0              1680.0  "
      ]
     },
     "execution_count": 90,
     "metadata": {},
     "output_type": "execute_result"
    }
   ],
   "source": [
    "# summary stats\n",
    "# toPandas(): pySpark dataframe -> pandas dataframe\n",
    "gpdf.describe().toPandas()"
   ]
  },
  {
   "cell_type": "code",
   "execution_count": 91,
   "metadata": {},
   "outputs": [
    {
     "name": "stdout",
     "output_type": "stream",
     "text": [
      "+---------+-------+\n",
      "|cultivars|alcohol|\n",
      "+---------+-------+\n",
      "|        1|  13.16|\n",
      "|        1|  13.24|\n",
      "|        1|  13.75|\n",
      "|        1|  14.75|\n",
      "|        1|  14.38|\n",
      "+---------+-------+\n",
      "only showing top 5 rows\n",
      "\n"
     ]
    }
   ],
   "source": [
    "# select a subset of columns\n",
    "gpdf.select(gpdf.columns[0:2]).show(5)"
   ]
  },
  {
   "cell_type": "code",
   "execution_count": 92,
   "metadata": {},
   "outputs": [
    {
     "data": {
      "text/html": [
       "<div>\n",
       "<style>\n",
       "    .dataframe thead tr:only-child th {\n",
       "        text-align: right;\n",
       "    }\n",
       "\n",
       "    .dataframe thead th {\n",
       "        text-align: left;\n",
       "    }\n",
       "\n",
       "    .dataframe tbody tr th {\n",
       "        vertical-align: top;\n",
       "    }\n",
       "</style>\n",
       "<table border=\"1\" class=\"dataframe\">\n",
       "  <thead>\n",
       "    <tr style=\"text-align: right;\">\n",
       "      <th></th>\n",
       "      <th>cultivars</th>\n",
       "      <th>alcohol</th>\n",
       "      <th>malic_acid</th>\n",
       "      <th>ash</th>\n",
       "      <th>alcalinity_of_ash</th>\n",
       "    </tr>\n",
       "  </thead>\n",
       "  <tbody>\n",
       "    <tr>\n",
       "      <th>0</th>\n",
       "      <td>1</td>\n",
       "      <td>12.85</td>\n",
       "      <td>1.60</td>\n",
       "      <td>2.52</td>\n",
       "      <td>17.8</td>\n",
       "    </tr>\n",
       "    <tr>\n",
       "      <th>1</th>\n",
       "      <td>1</td>\n",
       "      <td>12.93</td>\n",
       "      <td>3.80</td>\n",
       "      <td>2.65</td>\n",
       "      <td>18.6</td>\n",
       "    </tr>\n",
       "    <tr>\n",
       "      <th>2</th>\n",
       "      <td>1</td>\n",
       "      <td>13.05</td>\n",
       "      <td>2.05</td>\n",
       "      <td>3.22</td>\n",
       "      <td>25.0</td>\n",
       "    </tr>\n",
       "    <tr>\n",
       "      <th>3</th>\n",
       "      <td>1</td>\n",
       "      <td>13.05</td>\n",
       "      <td>1.65</td>\n",
       "      <td>2.55</td>\n",
       "      <td>18.0</td>\n",
       "    </tr>\n",
       "    <tr>\n",
       "      <th>4</th>\n",
       "      <td>1</td>\n",
       "      <td>13.05</td>\n",
       "      <td>1.77</td>\n",
       "      <td>2.10</td>\n",
       "      <td>17.0</td>\n",
       "    </tr>\n",
       "  </tbody>\n",
       "</table>\n",
       "</div>"
      ],
      "text/plain": [
       "   cultivars  alcohol  malic_acid   ash  alcalinity_of_ash\n",
       "0          1    12.85        1.60  2.52               17.8\n",
       "1          1    12.93        3.80  2.65               18.6\n",
       "2          1    13.05        2.05  3.22               25.0\n",
       "3          1    13.05        1.65  2.55               18.0\n",
       "4          1    13.05        1.77  2.10               17.0"
      ]
     },
     "execution_count": 92,
     "metadata": {},
     "output_type": "execute_result"
    }
   ],
   "source": [
    "# Select first 5 columns, filter results to where cultivars = 1 and show top 5 when ranked by alcohol\n",
    "\n",
    "# select columns -> filter rows -> order results by\n",
    "gpdf.select(gpdf.columns[0:5]).filter(\"cultivars = 1\").orderBy(\"alcohol\").limit(5).toPandas()"
   ]
  },
  {
   "cell_type": "markdown",
   "metadata": {},
   "source": [
    "**Running Spark SQL query against DataFrame**"
   ]
  },
  {
   "cell_type": "code",
   "execution_count": 105,
   "metadata": {
    "collapsed": true
   },
   "outputs": [],
   "source": [
    "# Prepare temp table view for running SQL queries\n",
    "gpdf.createGlobalTempView(\"wine\")\n"
   ]
  },
  {
   "cell_type": "code",
   "execution_count": 106,
   "metadata": {},
   "outputs": [
    {
     "data": {
      "text/html": [
       "<div>\n",
       "<style>\n",
       "    .dataframe thead tr:only-child th {\n",
       "        text-align: right;\n",
       "    }\n",
       "\n",
       "    .dataframe thead th {\n",
       "        text-align: left;\n",
       "    }\n",
       "\n",
       "    .dataframe tbody tr th {\n",
       "        vertical-align: top;\n",
       "    }\n",
       "</style>\n",
       "<table border=\"1\" class=\"dataframe\">\n",
       "  <thead>\n",
       "    <tr style=\"text-align: right;\">\n",
       "      <th></th>\n",
       "      <th>cultivars</th>\n",
       "      <th>alcohol</th>\n",
       "      <th>malic_acid</th>\n",
       "      <th>ash</th>\n",
       "      <th>alcalinity_of_ash</th>\n",
       "    </tr>\n",
       "  </thead>\n",
       "  <tbody>\n",
       "    <tr>\n",
       "      <th>0</th>\n",
       "      <td>1</td>\n",
       "      <td>12.85</td>\n",
       "      <td>1.60</td>\n",
       "      <td>2.52</td>\n",
       "      <td>17.8</td>\n",
       "    </tr>\n",
       "    <tr>\n",
       "      <th>1</th>\n",
       "      <td>1</td>\n",
       "      <td>12.93</td>\n",
       "      <td>3.80</td>\n",
       "      <td>2.65</td>\n",
       "      <td>18.6</td>\n",
       "    </tr>\n",
       "    <tr>\n",
       "      <th>2</th>\n",
       "      <td>1</td>\n",
       "      <td>13.05</td>\n",
       "      <td>2.05</td>\n",
       "      <td>3.22</td>\n",
       "      <td>25.0</td>\n",
       "    </tr>\n",
       "    <tr>\n",
       "      <th>3</th>\n",
       "      <td>1</td>\n",
       "      <td>13.05</td>\n",
       "      <td>1.65</td>\n",
       "      <td>2.55</td>\n",
       "      <td>18.0</td>\n",
       "    </tr>\n",
       "    <tr>\n",
       "      <th>4</th>\n",
       "      <td>1</td>\n",
       "      <td>13.05</td>\n",
       "      <td>1.77</td>\n",
       "      <td>2.10</td>\n",
       "      <td>17.0</td>\n",
       "    </tr>\n",
       "  </tbody>\n",
       "</table>\n",
       "</div>"
      ],
      "text/plain": [
       "   cultivars  alcohol  malic_acid   ash  alcalinity_of_ash\n",
       "0          1    12.85        1.60  2.52               17.8\n",
       "1          1    12.93        3.80  2.65               18.6\n",
       "2          1    13.05        2.05  3.22               25.0\n",
       "3          1    13.05        1.65  2.55               18.0\n",
       "4          1    13.05        1.77  2.10               17.0"
      ]
     },
     "execution_count": 106,
     "metadata": {},
     "output_type": "execute_result"
    }
   ],
   "source": [
    "# Select first 5 columns, filter results to where cultivars = 1 and show top 5 when ranked by alcohol\n",
    "\n",
    "# prepare query\n",
    "query = \"\"\"\n",
    "    SELECT {} \n",
    "    FROM global_temp.wine \n",
    "    WHERE cultivars = 1\n",
    "    ORDER BY alcohol\n",
    "\"\"\".format(','.join(gpdf.columns[0:5]))\n",
    "\n",
    "# run query\n",
    "spark.sql(query).limit(5).toPandas()"
   ]
  }
 ],
 "metadata": {
  "kernelspec": {
   "display_name": "Python 2",
   "language": "python",
   "name": "python2"
  },
  "language_info": {
   "codemirror_mode": {
    "name": "ipython",
    "version": 2
   },
   "file_extension": ".py",
   "mimetype": "text/x-python",
   "name": "python",
   "nbconvert_exporter": "python",
   "pygments_lexer": "ipython2",
   "version": "2.7.14"
  }
 },
 "nbformat": 4,
 "nbformat_minor": 2
}
