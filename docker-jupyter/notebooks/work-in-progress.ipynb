{
 "cells": [
  {
   "cell_type": "markdown",
   "metadata": {},
   "source": [
    "# Data Science Example"
   ]
  },
  {
   "cell_type": "code",
   "execution_count": 1,
   "metadata": {
    "collapsed": true
   },
   "outputs": [],
   "source": [
    "# dependencies\n",
    "import psycopg2\n",
    "import pandas as pd\n",
    "import xlrd\n",
    "import urllib"
   ]
  },
  {
   "cell_type": "code",
   "execution_count": 2,
   "metadata": {
    "collapsed": true
   },
   "outputs": [],
   "source": [
    "try:\n",
    "    conn = psycopg2.connect(\"dbname='gpadmin' user='gpadmin' host='gpdb' password='pivotal'\")\n",
    "    cur = conn.cursor()\n",
    "    conn.autocommit = True\n",
    "except:\n",
    "    print \"I am unable to connect to the database\""
   ]
  },
  {
   "cell_type": "code",
   "execution_count": null,
   "metadata": {
    "collapsed": true
   },
   "outputs": [],
   "source": [
    "# download xlsx file\n",
    "dls = \"http://archive.ics.uci.edu/ml/machine-learning-databases/00352/Online%20Retail.xlsx\"\n",
    "urllib.urlretrieve(dls, \"OnlineRetail.xlsx\")"
   ]
  },
  {
   "cell_type": "code",
   "execution_count": 65,
   "metadata": {
    "collapsed": true
   },
   "outputs": [],
   "source": [
    "# create table shell in gpdb\n",
    "query = \"\"\"\n",
    "    DROP TABLE IF EXISTS public.online_retail_data\n",
    "\"\"\"\n",
    "cur.execute(query)\n",
    "\n",
    "ddl = \"\"\"\n",
    "    CREATE TABLE public.online_retail_data (\n",
    "        invoiceno text\n",
    "       ,stockcode text\n",
    "       ,description text\n",
    "       ,quantity float\n",
    "       ,invoicedate timestamp\n",
    "       ,unitprice float\n",
    "       ,customerid text\n",
    "       ,country text\n",
    "    ) DISTRIBUTED BY (invoiceno);\n",
    "\"\"\"\n",
    "cur.execute(ddl)"
   ]
  },
  {
   "cell_type": "code",
   "execution_count": 66,
   "metadata": {
    "collapsed": true
   },
   "outputs": [],
   "source": [
    "# check if string contains all acsii characters\n",
    "def is_ascii(s):\n",
    "    if isinstance(s, float) or isinstance(s, int):\n",
    "        return True\n",
    "    else:\n",
    "        return all(ord(c) < 128 for c in s)"
   ]
  },
  {
   "cell_type": "code",
   "execution_count": 67,
   "metadata": {
    "collapsed": true
   },
   "outputs": [],
   "source": [
    "def xlsx_timestamp_to_gpdb(dt):\n",
    "    d = xlrd.xldate_as_tuple(dt,0)\n",
    "    return \"{}-{:02d}-{:02d} {:02d}:{:02d}:{:02d}\".format(d[0],d[1],d[2],d[3],d[4],d[5])"
   ]
  },
  {
   "cell_type": "code",
   "execution_count": 68,
   "metadata": {},
   "outputs": [],
   "source": [
    "# function to insert records into existing table\n",
    "def create_row(types, record):\n",
    "    rowValues = '';\n",
    "        \n",
    "    for i in range(0,len(types)):\n",
    "        \n",
    "        # handle missing and non-ascii strings -> create some nulls to handle in example \n",
    "        #(could also change table type to handle non ascii)\n",
    "        if record[i] == '' or is_ascii(record[i]) == False:\n",
    "            rowValues = rowValues + \", null\"\n",
    "        else:\n",
    "            # add single quotes around text fields\n",
    "            if types[i] in ['text','varchar']:\n",
    "                rowValues = rowValues + \",$r${}$r$\".format(str(record[i]))\n",
    "            elif types[i] == 'timestamp':\n",
    "                rowValues = rowValues + \",'{}'\".format(xlsx_timestamp_to_gpdb(record[i])) \n",
    "            else:\n",
    "                rowValues = rowValues + \",{}\".format(record[i])\n",
    "            \n",
    "    return \",({})\".format(rowValues[1:])"
   ]
  },
  {
   "cell_type": "code",
   "execution_count": null,
   "metadata": {},
   "outputs": [],
   "source": [
    "# load xlsx file into gpdb\n",
    "def load_xlsx_file(xlsxFilename):\n",
    "    \n",
    "    # open workbook\n",
    "    workbook = xlrd.open_workbook(xlsxFilename)\n",
    "    sheet = workbook.sheet_by_index(0)\n",
    "    \n",
    "    prep_data = ''\n",
    "    \n",
    "    # iterate through rows in sheet\n",
    "    for r in range(1,sheet.nrows):\n",
    "        \n",
    "        rec = sheet.row_values(r)\n",
    "        \n",
    "        colTypes = [\"text\",\"text\",\"text\",\"float\",\"timestamp\",\"float\",\"text\",\"text\"]\n",
    "        \n",
    "        prep_data = prep_data + create_row(colTypes,rec)\n",
    "        \n",
    "        # batch load N records at a time\n",
    "        if (r % 1000) == 0:  \n",
    "            query = \"\"\"\n",
    "                INSERT INTO public.online_retail_data VALUES {}\n",
    "            \"\"\".format(prep_data[1:])\n",
    "            cur.execute(query)\n",
    "            prep_data = ''\n",
    "    \n",
    "    # load any remaining record\n",
    "    if prep_data != '':\n",
    "        query = \"\"\"\n",
    "              INSERT INTO public.online_retail_data VALUES {}\n",
    "        \"\"\".format(prep_data[1:])\n",
    "        cur.execute(query)       \n",
    "\n",
    "    # clean up\n",
    "    workbook.release_resources()\n",
    "    del workbook\n",
    "    \n",
    "load_xlsx_file(\"OnlineRetail.xlsx\")"
   ]
  },
  {
   "cell_type": "code",
   "execution_count": null,
   "metadata": {
    "collapsed": true
   },
   "outputs": [],
   "source": [
    "# parse cancellation field out of invoiceno\n",
    "query = \"\"\"\n",
    "    DROP TABLE IF EXISTS public.online_retail_data_2;\n",
    "    CREATE TABLE public.online_retail_data_2 AS\n",
    "    SELECT CASE WHEN substring(invoiceno,1,1) = 'C' THEN 1 ELSE 0 END AS cancellation\n",
    "          ,CASE WHEN substring(invoiceno,1,1) = 'C' THEN substring(invoiceno,2,6)\n",
    "                ELSE substring(invoiceno,1,6)\n",
    "           END AS invoiceno\n",
    "          ,stockcode \n",
    "          ,description \n",
    "          ,quantity \n",
    "          ,invoicedate\n",
    "          ,unitprice \n",
    "          ,customerid \n",
    "          ,country \n",
    "    FROM public.online_retail_data\n",
    "    DISTRIBUTED BY (invoiceno);\n",
    "    DROP TABLE public.online_retail_data;\n",
    "    ALTER TABLE public.online_retail_data_2 RENAME TO online_retail_data;\n",
    "\"\"\"\n",
    "\n",
    "cur.execute(query)"
   ]
  },
  {
   "cell_type": "code",
   "execution_count": null,
   "metadata": {},
   "outputs": [],
   "source": [
    "query = \"\"\"\n",
    "    SELECT cancellation\n",
    "          ,invoiceno\n",
    "          ,stockcode \n",
    "          ,description \n",
    "          ,quantity \n",
    "          ,invoicedate\n",
    "          ,unitprice \n",
    "          ,customerid \n",
    "          ,country \n",
    "    FROM public.online_retail_data\n",
    "    LIMIT 10\n",
    "\"\"\"\n",
    "cur.execute(query)\n",
    "pd.DataFrame(cur.fetchall())"
   ]
  },
  {
   "cell_type": "code",
   "execution_count": 13,
   "metadata": {},
   "outputs": [
    {
     "data": {
      "text/html": [
       "<div>\n",
       "<style>\n",
       "    .dataframe thead tr:only-child th {\n",
       "        text-align: right;\n",
       "    }\n",
       "\n",
       "    .dataframe thead th {\n",
       "        text-align: left;\n",
       "    }\n",
       "\n",
       "    .dataframe tbody tr th {\n",
       "        vertical-align: top;\n",
       "    }\n",
       "</style>\n",
       "<table border=\"1\" class=\"dataframe\">\n",
       "  <thead>\n",
       "    <tr style=\"text-align: right;\">\n",
       "      <th></th>\n",
       "      <th>0</th>\n",
       "    </tr>\n",
       "  </thead>\n",
       "  <tbody>\n",
       "    <tr>\n",
       "      <th>0</th>\n",
       "      <td>541000</td>\n",
       "    </tr>\n",
       "  </tbody>\n",
       "</table>\n",
       "</div>"
      ],
      "text/plain": [
       "        0\n",
       "0  541000"
      ]
     },
     "execution_count": 13,
     "metadata": {},
     "output_type": "execute_result"
    }
   ],
   "source": [
    "query = \"\"\"\n",
    "    SELECT count(*)\n",
    "    FROM public.online_retail_data\n",
    "\"\"\"\n",
    "cur.execute(query)\n",
    "pd.DataFrame(cur.fetchall())"
   ]
  }
 ],
 "metadata": {
  "kernelspec": {
   "display_name": "Python 2",
   "language": "python",
   "name": "python2"
  },
  "language_info": {
   "codemirror_mode": {
    "name": "ipython",
    "version": 2
   },
   "file_extension": ".py",
   "mimetype": "text/x-python",
   "name": "python",
   "nbconvert_exporter": "python",
   "pygments_lexer": "ipython2",
   "version": "2.7.14"
  }
 },
 "nbformat": 4,
 "nbformat_minor": 2
}
